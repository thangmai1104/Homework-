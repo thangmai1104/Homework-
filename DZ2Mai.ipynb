{
 "cells": [
  {
   "cell_type": "markdown",
   "id": "cf3ae727",
   "metadata": {},
   "source": [
    "Для того чтобы оценка за данную работу пошла в зачёт нужно отправить ссылку на нее в гит или ноутбук до <b> 17.10.2021 17:00 </b>."
   ]
  },
  {
   "cell_type": "markdown",
   "id": "cfc3e82d",
   "metadata": {},
   "source": [
    "<b>Задание 1.</b> Создайте массив, который состоит из целых чисел от -50 до 50 включительно. Затем удалите последние 25 элеметов массива. Затем разверните массив. Добавьте в конец массива 999. Создайте новый массив в который войдут все четные числа из ранее полученного массива и напечатайте его."
   ]
  },
  {
   "cell_type": "code",
   "execution_count": 28,
   "id": "f65fc6c1",
   "metadata": {},
   "outputs": [],
   "source": [
    "# решение\n",
    "S = list(range(-50,50,1))\n",
    "del S [76:100]\n",
    "S.append(999)\n",
    "S1=list()\n",
    "for i in S:\n",
    "    if i%2==0:\n",
    "        S1.append(i)\n",
    "S1\n"
   ]
  },
  {
   "cell_type": "markdown",
   "id": "4907145c",
   "metadata": {},
   "source": [
    "<b>Задание 2.</b> Даны несколько массивов целых чисел (A, B, C, D). Напишите программный код, с помощью которого вы сможете определить длину самой длинной непрерывной последовательности равных значений для каждого из массивов."
   ]
  },
  {
   "cell_type": "code",
   "execution_count": 68,
   "id": "02880b3a",
   "metadata": {},
   "outputs": [],
   "source": [
    "E = [1, 1, 1, 2, 3, 4, 5, 6, 3, 4, 1, 1, 1, 1]  #самая длинная последовательность длины 4\n",
    "A = [1] * 20 + [1, 1, 3] * 30 + [1] * 21\n",
    "\n",
    "B = list(range(1, 9, 2)) * 3 + list(range(4, 1, 1)) * 2 + [3] * 3\n",
    "B.pop()\n",
    "B.reverse()\n",
    "B.pop()\n",
    "B.reverse()\n",
    "\n",
    "C = [b - 2 for b in B]\n",
    "C.reverse()\n",
    "C =  A + C\n",
    "\n",
    "D = [777] + [666] + [1,2,1,1] * 2 + [1,1,1,1,3]*3 + [1, 4] * 2"
   ]
  },
  {
   "cell_type": "code",
   "execution_count": 75,
   "id": "a28bc2bc",
   "metadata": {},
   "outputs": [
    {
     "name": "stdout",
     "output_type": "stream",
     "text": [
      "самая длинная последовательность длины массивы E  4\n",
      "самая длинная последовательность длины массивы A  22\n",
      "самая длинная последовательность длины массивы B  2\n",
      "самая длинная последовательность длины массивы C  23\n",
      "самая длинная последовательность длины массивы D 6\n"
     ]
    }
   ],
   "source": [
    "# решение\n",
    "E = [1, 1, 1, 2, 3, 4, 5, 6, 3, 4, 1, 1, 1, 1]\n",
    "def lengh(E):\n",
    "    max = 1\n",
    "    count = 1\n",
    "    for i in range(len(E)-1):\n",
    "        if E[i]==E[i+1]:\n",
    "            count+=1\n",
    "            if count>max:\n",
    "                max=count\n",
    "        else:\n",
    "            count=1\n",
    "    return max;\n",
    "print(\"самая длинная последовательность длины массивы E\",lengh(E))\n",
    "print(\"самая длинная последовательность длины массивы A\",lengh(A))\n",
    "print(\"самая длинная последовательность длины массивы B\",lengh(B))\n",
    "print(\"самая длинная последовательность длины массивы C\",lengh(C))\n",
    "print(\"самая длинная последовательность длины массивы D\",lengh(D))\n"
   ]
  },
  {
   "cell_type": "markdown",
   "id": "8efc26b7",
   "metadata": {},
   "source": [
    "<b>Задание 3.</b> Напишите функция, которая на вход принимает прямоугольную матрицу и возвращает транспонированную матрицу. Протестируйте функцию на матрицах A, B, C."
   ]
  },
  {
   "cell_type": "code",
   "execution_count": 86,
   "id": "d27847e4",
   "metadata": {},
   "outputs": [],
   "source": [
    "A = [[1, 1], [1, 0]]\n",
    "B = [[2, 3, 4], [4, 5, 6], [7, -1, -2], [-4, -6, 99], [1, 0, 1]]\n",
    "C = [[1, 2, 3, 4, 5]]"
   ]
  },
  {
   "cell_type": "code",
   "execution_count": 100,
   "id": "8cce8472",
   "metadata": {},
   "outputs": [
    {
     "data": {
      "text/plain": [
       "[[1], [2], [3], [4], [5]]"
      ]
     },
     "execution_count": 100,
     "metadata": {},
     "output_type": "execute_result"
    }
   ],
   "source": [
    "# решение\n",
    "def transpose (X):\n",
    "    result = [[X[j][i] for j in range(len(X))] for i in range(len(X[0]))]\n",
    "    t=[]\n",
    "    for r in result:\n",
    "        t.append(r)\n",
    "    return t\n",
    "transpose(C)\n"
   ]
  },
  {
   "cell_type": "code",
   "execution_count": null,
   "id": "01587c3d",
   "metadata": {},
   "outputs": [],
   "source": []
  }
 ],
 "metadata": {
  "kernelspec": {
   "display_name": "Python 3 (ipykernel)",
   "language": "python",
   "name": "python3"
  },
  "language_info": {
   "codemirror_mode": {
    "name": "ipython",
    "version": 3
   },
   "file_extension": ".py",
   "mimetype": "text/x-python",
   "name": "python",
   "nbconvert_exporter": "python",
   "pygments_lexer": "ipython3",
   "version": "3.8.8"
  }
 },
 "nbformat": 4,
 "nbformat_minor": 5
}
