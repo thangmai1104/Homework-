{
 "cells": [
  {
   "cell_type": "markdown",
   "id": "b14eacc2",
   "metadata": {},
   "source": [
    "- 12 * 5 мини тест\n",
    "- 2 * 30 большие тесты\n",
    "- 12 * 10 домашние\n",
    "- 80 - задача из пула 1\n",
    "- 40 - задача из пула 2"
   ]
  },
  {
   "cell_type": "markdown",
   "id": "c26e5933",
   "metadata": {},
   "source": [
    "## План занятия:\n",
    "- массивы (списки)\n",
    "- функции"
   ]
  },
  {
   "cell_type": "markdown",
   "id": "c55cb6f3",
   "metadata": {},
   "source": [
    "# Массивы\n",
    "- массив - структура данных\n",
    "- основная цель массива это облегчить хранение большого объёма данных и манипулирование ими\n",
    "- массивы соответствуют векторам и матрицам\n",
    "\n",
    "<b>Определение.</b> Структура данных - способ организации данных, необходимый для решения какой-то задачи или некоторого класса задач."
   ]
  },
  {
   "cell_type": "markdown",
   "id": "fe09a913",
   "metadata": {},
   "source": [
    "<b>Одномерный массив</b> - структура данных, хранящая последовательность ссылок на объекты. \n",
    "- Объекты на которые хранятся ссылки в массиве называются его элементами. \n",
    "- Для обращения к элементам массива, каждому элементу присваивается индекс. "
   ]
  },
  {
   "cell_type": "markdown",
   "id": "d59b45ef",
   "metadata": {},
   "source": [
    "## Способы создания массива и добавление в массив элементов в Python"
   ]
  },
  {
   "cell_type": "code",
   "execution_count": null,
   "id": "e7f0f22d",
   "metadata": {},
   "outputs": [],
   "source": [
    "# способ 1\n",
    "int_array = [1, 2, 3] # массив состоящий из целых чисел"
   ]
  },
  {
   "cell_type": "code",
   "execution_count": null,
   "id": "0bfcdc85",
   "metadata": {},
   "outputs": [],
   "source": [
    "int_array"
   ]
  },
  {
   "cell_type": "code",
   "execution_count": null,
   "id": "a3665789",
   "metadata": {},
   "outputs": [],
   "source": [
    "type(int_array) # type == list"
   ]
  },
  {
   "cell_type": "code",
   "execution_count": null,
   "id": "7bcda41f",
   "metadata": {},
   "outputs": [],
   "source": [
    "color_array = ['red', 'blue', 'green', 'yellow'] \n",
    "# одномерный массив содержащий строковые переменные"
   ]
  },
  {
   "cell_type": "code",
   "execution_count": null,
   "id": "cc526ac2",
   "metadata": {},
   "outputs": [],
   "source": [
    "color_array"
   ]
  },
  {
   "cell_type": "code",
   "execution_count": null,
   "id": "5219e8d0",
   "metadata": {},
   "outputs": [],
   "source": [
    "type(color_array)"
   ]
  },
  {
   "cell_type": "code",
   "execution_count": 1,
   "id": "af428e3e",
   "metadata": {},
   "outputs": [
    {
     "name": "stdout",
     "output_type": "stream",
     "text": [
      "[]\n"
     ]
    }
   ],
   "source": [
    "# создание пустого массива\n",
    "empty_array = []\n",
    "print(empty_array)"
   ]
  },
  {
   "cell_type": "code",
   "execution_count": 2,
   "id": "5ffcbae8",
   "metadata": {},
   "outputs": [],
   "source": [
    "# добавление элементов в массив\n",
    "# для добавления элемента в массив используется метод append(), которому\n",
    "# на вход передается объект, ссылку на которые мы хотим добавить в массив"
   ]
  },
  {
   "cell_type": "code",
   "execution_count": 3,
   "id": "ab3395d2",
   "metadata": {},
   "outputs": [
    {
     "name": "stdout",
     "output_type": "stream",
     "text": [
      "[1]\n"
     ]
    }
   ],
   "source": [
    "empty_array.append(1)\n",
    "print(empty_array) # теперь наш массив состоит из 1 элемента, это 1"
   ]
  },
  {
   "cell_type": "code",
   "execution_count": 4,
   "id": "9a7cced4",
   "metadata": {},
   "outputs": [
    {
     "name": "stdout",
     "output_type": "stream",
     "text": [
      "[1, 2]\n"
     ]
    }
   ],
   "source": [
    "empty_array.append(2)\n",
    "print(empty_array) # новые элементы добавляются в конец массива"
   ]
  },
  {
   "cell_type": "code",
   "execution_count": 5,
   "id": "e3f0ef2b",
   "metadata": {},
   "outputs": [
    {
     "name": "stdout",
     "output_type": "stream",
     "text": [
      "[1, 2, 7, 10]\n"
     ]
    }
   ],
   "source": [
    "empty_array.append(7)\n",
    "empty_array.append(10)\n",
    "print(empty_array)"
   ]
  },
  {
   "cell_type": "code",
   "execution_count": 6,
   "id": "5cdc06c1",
   "metadata": {},
   "outputs": [
    {
     "name": "stdout",
     "output_type": "stream",
     "text": [
      "<class 'list'>\n",
      "[]\n"
     ]
    }
   ],
   "source": [
    "# второй способ задать массив \n",
    "fruits = list() # = []\n",
    "print(type(fruits))\n",
    "print(fruits)"
   ]
  },
  {
   "cell_type": "code",
   "execution_count": 7,
   "id": "4946f0cf",
   "metadata": {},
   "outputs": [
    {
     "data": {
      "text/plain": [
       "list"
      ]
     },
     "execution_count": 7,
     "metadata": {},
     "output_type": "execute_result"
    }
   ],
   "source": [
    "type(fruits)"
   ]
  },
  {
   "cell_type": "code",
   "execution_count": 8,
   "id": "fd6efa82",
   "metadata": {},
   "outputs": [],
   "source": [
    "fruits.append(\"apple\")\n",
    "fruits.append(\"orange\")\n",
    "fruits.append(\"strawberry\")\n",
    "fruits.append('raspberry')"
   ]
  },
  {
   "cell_type": "code",
   "execution_count": 9,
   "id": "da38934c",
   "metadata": {},
   "outputs": [
    {
     "data": {
      "text/plain": [
       "['apple', 'orange', 'strawberry', 'raspberry']"
      ]
     },
     "execution_count": 9,
     "metadata": {},
     "output_type": "execute_result"
    }
   ],
   "source": [
    "fruits"
   ]
  },
  {
   "cell_type": "code",
   "execution_count": 10,
   "id": "7213a219",
   "metadata": {},
   "outputs": [],
   "source": [
    "# добавленные в массив ссылки на объекты не обязательно должны\n",
    "# ссылаться на объекты одинакового типа\n",
    "# массив ссылающийся на объекты разных типов\n",
    "multi_array = [True, 10, 'Hello', 1.5]"
   ]
  },
  {
   "cell_type": "code",
   "execution_count": 11,
   "id": "a0277f6a",
   "metadata": {},
   "outputs": [
    {
     "data": {
      "text/plain": [
       "[True, 10, 'Hello', 1.5]"
      ]
     },
     "execution_count": 11,
     "metadata": {},
     "output_type": "execute_result"
    }
   ],
   "source": [
    "multi_array"
   ]
  },
  {
   "cell_type": "markdown",
   "id": "73f6e6c9",
   "metadata": {},
   "source": [
    "## Размер массива\n",
    "Чтобы узнать размер массива нужно вызвать метод len(<ссылка на массив>)"
   ]
  },
  {
   "cell_type": "code",
   "execution_count": 12,
   "id": "1c096380",
   "metadata": {},
   "outputs": [
    {
     "data": {
      "text/plain": [
       "4"
      ]
     },
     "execution_count": 12,
     "metadata": {},
     "output_type": "execute_result"
    }
   ],
   "source": [
    "len(multi_array)"
   ]
  },
  {
   "cell_type": "markdown",
   "id": "0594ec42",
   "metadata": {},
   "source": [
    "## Обращение к элементам массива по индексу\n",
    "Используя конструкцию массив[index] можно обращаться к элементам массива.\n",
    "Элементам массива присваиваются индексы от $0$ до размер_массива$-1$."
   ]
  },
  {
   "cell_type": "code",
   "execution_count": 13,
   "id": "3b5f334f",
   "metadata": {},
   "outputs": [
    {
     "name": "stdout",
     "output_type": "stream",
     "text": [
      "0 True\n",
      "1 10\n",
      "2 Hello\n",
      "3 1.5\n"
     ]
    }
   ],
   "source": [
    "# в multi_array 4 элемента\n",
    "print(0, multi_array[0]) # обращаясь по индексу выведем все элементы массива\n",
    "print(1, multi_array[1])\n",
    "print(2, multi_array[2])\n",
    "print(3, multi_array[3])"
   ]
  },
  {
   "cell_type": "code",
   "execution_count": 14,
   "id": "1022f6e1",
   "metadata": {},
   "outputs": [
    {
     "ename": "IndexError",
     "evalue": "list index out of range",
     "output_type": "error",
     "traceback": [
      "\u001b[0;31m---------------------------------------------------------------------------\u001b[0m",
      "\u001b[0;31mIndexError\u001b[0m                                Traceback (most recent call last)",
      "\u001b[0;32m<ipython-input-14-3187bd7492c8>\u001b[0m in \u001b[0;36m<module>\u001b[0;34m\u001b[0m\n\u001b[0;32m----> 1\u001b[0;31m \u001b[0mmulti_array\u001b[0m\u001b[0;34m[\u001b[0m\u001b[0;36m4\u001b[0m\u001b[0;34m]\u001b[0m\u001b[0;34m\u001b[0m\u001b[0;34m\u001b[0m\u001b[0m\n\u001b[0m",
      "\u001b[0;31mIndexError\u001b[0m: list index out of range"
     ]
    }
   ],
   "source": [
    "multi_array[4]"
   ]
  },
  {
   "cell_type": "code",
   "execution_count": 15,
   "id": "df92a102",
   "metadata": {},
   "outputs": [
    {
     "name": "stdout",
     "output_type": "stream",
     "text": [
      "0\n",
      "1\n",
      "2\n",
      "3\n"
     ]
    }
   ],
   "source": [
    "# можно реализовать обращение к элементам массива в цикле\n",
    "for i in range(len(multi_array)):\n",
    "    print(i)"
   ]
  },
  {
   "cell_type": "code",
   "execution_count": 16,
   "id": "1265a32d",
   "metadata": {},
   "outputs": [
    {
     "name": "stdout",
     "output_type": "stream",
     "text": [
      "0 True\n",
      "1 10\n",
      "2 Hello\n",
      "3 1.5\n"
     ]
    }
   ],
   "source": [
    "for i in range(len(multi_array)):\n",
    "    print(i, multi_array[i])"
   ]
  },
  {
   "cell_type": "code",
   "execution_count": 17,
   "id": "d98fddbf",
   "metadata": {},
   "outputs": [
    {
     "name": "stdout",
     "output_type": "stream",
     "text": [
      "True\n",
      "10\n",
      "Hello\n",
      "1.5\n"
     ]
    }
   ],
   "source": [
    "# можно пройтись по элементам массива использую иную конструкцию for\n",
    "for element in multi_array:\n",
    "    print(element)\n",
    "# минус такого подхода в том, что мы не знаем индекс элемента массива"
   ]
  },
  {
   "cell_type": "code",
   "execution_count": 18,
   "id": "c033127b",
   "metadata": {},
   "outputs": [
    {
     "name": "stdout",
     "output_type": "stream",
     "text": [
      "0 True\n",
      "1 10\n",
      "2 Hello\n",
      "3 1.5\n"
     ]
    }
   ],
   "source": [
    "i = 0 \n",
    "for element in multi_array:\n",
    "    print(i, element)\n",
    "    i += 1"
   ]
  },
  {
   "cell_type": "code",
   "execution_count": 25,
   "id": "544ee7fb",
   "metadata": {},
   "outputs": [
    {
     "name": "stdout",
     "output_type": "stream",
     "text": [
      "[1, 2, 3, 12, 13, 14]\n"
     ]
    }
   ],
   "source": [
    "# соединить массивы a,b\n",
    "a = [1, 2, 3]\n",
    "b = [12, 13, 14]\n",
    "c = []\n",
    "\n",
    "for element in a:\n",
    "    c.append(element)\n",
    "for element in b:\n",
    "    c.append(element)\n",
    "print(c)"
   ]
  },
  {
   "cell_type": "code",
   "execution_count": 22,
   "id": "11193813",
   "metadata": {},
   "outputs": [],
   "source": [
    "a.extend(b)"
   ]
  },
  {
   "cell_type": "code",
   "execution_count": 23,
   "id": "63acff64",
   "metadata": {},
   "outputs": [
    {
     "data": {
      "text/plain": [
       "[1, 2, 3, [12, 13, 14], 12, 13, 14]"
      ]
     },
     "execution_count": 23,
     "metadata": {},
     "output_type": "execute_result"
    }
   ],
   "source": [
    "a"
   ]
  },
  {
   "cell_type": "code",
   "execution_count": 26,
   "id": "c40eb457",
   "metadata": {},
   "outputs": [
    {
     "data": {
      "text/plain": [
       "[1, 2, 3, 12, 13, 14]"
      ]
     },
     "execution_count": 26,
     "metadata": {},
     "output_type": "execute_result"
    }
   ],
   "source": [
    "# это можно сделать проще\n",
    "a + b # массив b дописывается в конец массива a, возращается новые массив"
   ]
  },
  {
   "cell_type": "code",
   "execution_count": 36,
   "id": "72d46f41",
   "metadata": {},
   "outputs": [
    {
     "data": {
      "text/plain": [
       "True"
      ]
     },
     "execution_count": 36,
     "metadata": {},
     "output_type": "execute_result"
    }
   ],
   "source": [
    "type(\"123\") == str"
   ]
  },
  {
   "cell_type": "code",
   "execution_count": 39,
   "id": "8b13e5af",
   "metadata": {},
   "outputs": [
    {
     "data": {
      "text/plain": [
       "37.0"
      ]
     },
     "execution_count": 39,
     "metadata": {},
     "output_type": "execute_result"
    }
   ],
   "source": [
    "# найти среднее значение элементов массива\n",
    "elements = [-4, 5, 6, 11, -344, 654, 7, 0, 25, 'slovoslovo']\n",
    "n = len(elements)\n",
    "summ = 0\n",
    "for element in elements:\n",
    "    if type(element) == str:\n",
    "        summ += len(element)\n",
    "    else:\n",
    "        summ += element\n",
    "summ/n"
   ]
  },
  {
   "cell_type": "code",
   "execution_count": 34,
   "id": "5968792a",
   "metadata": {},
   "outputs": [
    {
     "ename": "TypeError",
     "evalue": "unsupported operand type(s) for +: 'int' and 'str'",
     "output_type": "error",
     "traceback": [
      "\u001b[0;31m---------------------------------------------------------------------------\u001b[0m",
      "\u001b[0;31mTypeError\u001b[0m                                 Traceback (most recent call last)",
      "\u001b[0;32m<ipython-input-34-6aa1c23b7089>\u001b[0m in \u001b[0;36m<module>\u001b[0;34m\u001b[0m\n\u001b[0;32m----> 1\u001b[0;31m \u001b[0msum\u001b[0m\u001b[0;34m(\u001b[0m\u001b[0melements\u001b[0m\u001b[0;34m)\u001b[0m\u001b[0;34m/\u001b[0m\u001b[0mlen\u001b[0m\u001b[0;34m(\u001b[0m\u001b[0melements\u001b[0m\u001b[0;34m)\u001b[0m\u001b[0;34m\u001b[0m\u001b[0;34m\u001b[0m\u001b[0m\n\u001b[0m",
      "\u001b[0;31mTypeError\u001b[0m: unsupported operand type(s) for +: 'int' and 'str'"
     ]
    }
   ],
   "source": [
    "#sum(elements)/len(elements)"
   ]
  },
  {
   "cell_type": "markdown",
   "id": "e56fedf3",
   "metadata": {},
   "source": [
    "## Удаление элементов из массива"
   ]
  },
  {
   "cell_type": "markdown",
   "id": "86a66f82",
   "metadata": {},
   "source": [
    "### Очистить массив"
   ]
  },
  {
   "cell_type": "code",
   "execution_count": 40,
   "id": "ce40d171",
   "metadata": {},
   "outputs": [
    {
     "name": "stdout",
     "output_type": "stream",
     "text": [
      "start_arr: [1, 2, 3]\n",
      "arr after clear operation:  []\n"
     ]
    }
   ],
   "source": [
    "a = [1, 2, 3]\n",
    "print('start_arr:', a)\n",
    "a.clear() # удаляет все элементы из массива\n",
    "print('arr after clear operation: ', a)"
   ]
  },
  {
   "cell_type": "markdown",
   "id": "a55e5096",
   "metadata": {},
   "source": [
    "### Удаление одного элемента из массива"
   ]
  },
  {
   "cell_type": "code",
   "execution_count": 41,
   "id": "be809396",
   "metadata": {},
   "outputs": [],
   "source": [
    "b = [1, 2, 3, 4, 4]"
   ]
  },
  {
   "cell_type": "code",
   "execution_count": 42,
   "id": "d24a1359",
   "metadata": {},
   "outputs": [
    {
     "data": {
      "text/plain": [
       "[1, 2, 3, 4, 4]"
      ]
     },
     "execution_count": 42,
     "metadata": {},
     "output_type": "execute_result"
    }
   ],
   "source": [
    "b"
   ]
  },
  {
   "cell_type": "code",
   "execution_count": 43,
   "id": "4d346f5c",
   "metadata": {},
   "outputs": [
    {
     "data": {
      "text/plain": [
       "2"
      ]
     },
     "execution_count": 43,
     "metadata": {},
     "output_type": "execute_result"
    }
   ],
   "source": [
    "b.pop(1) # удаление по индексу возвращает удаленные элемент"
   ]
  },
  {
   "cell_type": "code",
   "execution_count": 44,
   "id": "87cd25a3",
   "metadata": {},
   "outputs": [
    {
     "data": {
      "text/plain": [
       "[1, 3, 4, 4]"
      ]
     },
     "execution_count": 44,
     "metadata": {},
     "output_type": "execute_result"
    }
   ],
   "source": [
    "b"
   ]
  },
  {
   "cell_type": "code",
   "execution_count": 45,
   "id": "35b18328",
   "metadata": {},
   "outputs": [
    {
     "name": "stdout",
     "output_type": "stream",
     "text": [
      "[0, 1, 2, 3, 4, 5, 6, 7, 8, 9]\n"
     ]
    }
   ],
   "source": [
    "integer_arr = list(range(10)) # ещё одна возможность задать массив\n",
    "print(integer_arr)"
   ]
  },
  {
   "cell_type": "code",
   "execution_count": 46,
   "id": "7660c3ce",
   "metadata": {},
   "outputs": [
    {
     "name": "stdout",
     "output_type": "stream",
     "text": [
      "0\n",
      "1\n",
      "2\n",
      "3\n",
      "4\n",
      "5\n"
     ]
    }
   ],
   "source": [
    "# что тут происходит?\n",
    "while len(integer_arr) > 4:\n",
    "    print(integer_arr.pop(0))\n",
    "# 0 9\n",
    "# 1 8\n",
    "# 2 7\n",
    "# 3 6\n",
    "# 4 5\n",
    "# 5 4"
   ]
  },
  {
   "cell_type": "code",
   "execution_count": 51,
   "id": "e8b53024",
   "metadata": {},
   "outputs": [],
   "source": [
    "float_arr = [1.0, 2.0, 3.0, 4.44, 5.55, 1.0, 2.0]"
   ]
  },
  {
   "cell_type": "code",
   "execution_count": 52,
   "id": "c935fef6",
   "metadata": {},
   "outputs": [
    {
     "data": {
      "text/plain": [
       "2.0"
      ]
     },
     "execution_count": 52,
     "metadata": {},
     "output_type": "execute_result"
    }
   ],
   "source": [
    "float_arr.pop()"
   ]
  },
  {
   "cell_type": "code",
   "execution_count": 49,
   "id": "15ee8c41",
   "metadata": {},
   "outputs": [
    {
     "data": {
      "text/plain": [
       "[2.0, 3.0, 4.44, 5.55, 1.0, 2.0]"
      ]
     },
     "execution_count": 49,
     "metadata": {},
     "output_type": "execute_result"
    }
   ],
   "source": [
    "float_arr.remove(1.0) # удаление первого элементов с заданным значением\n",
    "float_arr"
   ]
  },
  {
   "cell_type": "code",
   "execution_count": 50,
   "id": "ede67cb4",
   "metadata": {},
   "outputs": [
    {
     "data": {
      "text/plain": [
       "[2.0, 3.0, 4.44, 5.55, 2.0]"
      ]
     },
     "execution_count": 50,
     "metadata": {},
     "output_type": "execute_result"
    }
   ],
   "source": [
    "float_arr.remove(1.0) # удаление первого элементов с заданным значением\n",
    "float_arr"
   ]
  },
  {
   "cell_type": "code",
   "execution_count": 55,
   "id": "de284a47",
   "metadata": {},
   "outputs": [
    {
     "data": {
      "text/plain": [
       "[3, 2, 1]"
      ]
     },
     "execution_count": 55,
     "metadata": {},
     "output_type": "execute_result"
    }
   ],
   "source": [
    "tmp_arr = [1, 2, 3]\n",
    "tmp_arr.reverse() # разворачивает массив\n",
    "tmp_arr"
   ]
  },
  {
   "cell_type": "code",
   "execution_count": null,
   "id": "c6dad898",
   "metadata": {},
   "outputs": [],
   "source": [
    "# используя метод count() можно вычислить количество одинаковых элементов"
   ]
  },
  {
   "cell_type": "code",
   "execution_count": 56,
   "id": "f6358ba7",
   "metadata": {
    "scrolled": true
   },
   "outputs": [
    {
     "name": "stdout",
     "output_type": "stream",
     "text": [
      "1 5\n",
      "2 3\n",
      "3 2\n",
      "4 0\n"
     ]
    }
   ],
   "source": [
    "array = [1, 1, 1, 1, 1, 2, 2, 2, 3, 3]\n",
    "print(\"1\", array.count(1)) # считает сколько элементов с указан. знач.\n",
    "print(\"2\", array.count(2)) # встречается в списке \n",
    "print(\"3\", array.count(3))\n",
    "print(\"4\", array.count(4)) "
   ]
  },
  {
   "cell_type": "code",
   "execution_count": 58,
   "id": "673bccde",
   "metadata": {},
   "outputs": [
    {
     "data": {
      "text/plain": [
       "True"
      ]
     },
     "execution_count": 58,
     "metadata": {},
     "output_type": "execute_result"
    }
   ],
   "source": [
    "1 in array # проверка на содержание элемента в массиве"
   ]
  },
  {
   "cell_type": "code",
   "execution_count": 60,
   "id": "2738ffde",
   "metadata": {},
   "outputs": [
    {
     "data": {
      "text/plain": [
       "0"
      ]
     },
     "execution_count": 60,
     "metadata": {},
     "output_type": "execute_result"
    }
   ],
   "source": [
    "# пусть заданы два вектора\n",
    "x = [1, 2, 3, 4]\n",
    "y = [-1, 1, 1, -1]\n",
    "# напишите цикл которые будет вычислять их скалярное произведение\n",
    "dot_product = 0\n",
    "for i in range(len(x)):\n",
    "    dot_product += x[i] * y[i]\n",
    "dot_product"
   ]
  },
  {
   "cell_type": "markdown",
   "id": "3971b40b",
   "metadata": {},
   "source": [
    "## Как можно задать двумерный массив?"
   ]
  },
  {
   "cell_type": "code",
   "execution_count": 62,
   "id": "2dc90131",
   "metadata": {},
   "outputs": [],
   "source": [
    "x = [[1, 2], [3, 4], [5,6]]"
   ]
  },
  {
   "cell_type": "code",
   "execution_count": 63,
   "id": "09c31aa6",
   "metadata": {},
   "outputs": [
    {
     "data": {
      "text/plain": [
       "[1, 2]"
      ]
     },
     "execution_count": 63,
     "metadata": {},
     "output_type": "execute_result"
    }
   ],
   "source": [
    "x[0]"
   ]
  },
  {
   "cell_type": "code",
   "execution_count": 64,
   "id": "72dc4731",
   "metadata": {},
   "outputs": [
    {
     "data": {
      "text/plain": [
       "2"
      ]
     },
     "execution_count": 64,
     "metadata": {},
     "output_type": "execute_result"
    }
   ],
   "source": [
    "x[0][1]"
   ]
  },
  {
   "cell_type": "code",
   "execution_count": 70,
   "id": "8a89c314",
   "metadata": {},
   "outputs": [
    {
     "name": "stdout",
     "output_type": "stream",
     "text": [
      "1\n",
      "2\n",
      "3\n",
      "4\n",
      "5\n",
      "6\n"
     ]
    }
   ],
   "source": [
    "for element in x:\n",
    "    for a_ij in element:\n",
    "        print(a_ij)"
   ]
  },
  {
   "cell_type": "code",
   "execution_count": 71,
   "id": "578699ea",
   "metadata": {},
   "outputs": [],
   "source": [
    "x = [[1, 2], [1, 2, 3], [1, 3, 4, 5, 6]]"
   ]
  },
  {
   "cell_type": "code",
   "execution_count": 72,
   "id": "e89ad1fd",
   "metadata": {},
   "outputs": [
    {
     "data": {
      "text/plain": [
       "[[1, 2], [1, 2, 3], [1, 3, 4, 5, 6]]"
      ]
     },
     "execution_count": 72,
     "metadata": {},
     "output_type": "execute_result"
    }
   ],
   "source": [
    "x"
   ]
  },
  {
   "cell_type": "code",
   "execution_count": 73,
   "id": "779474ae",
   "metadata": {},
   "outputs": [],
   "source": [
    "x = [[1, 2], [3, 4], [5,6]]"
   ]
  },
  {
   "cell_type": "code",
   "execution_count": 74,
   "id": "77db1516",
   "metadata": {},
   "outputs": [
    {
     "name": "stdout",
     "output_type": "stream",
     "text": [
      "2\n",
      "4\n",
      "6\n"
     ]
    }
   ],
   "source": [
    "j = 1\n",
    "for row in x:\n",
    "    print(row[j])"
   ]
  },
  {
   "cell_type": "code",
   "execution_count": 75,
   "id": "67d00c65",
   "metadata": {},
   "outputs": [
    {
     "name": "stdout",
     "output_type": "stream",
     "text": [
      "BasicHM3.ipynb  LectureN3.ipynb LectureN5.ipynb TestN5.ipynb\r\n",
      "HM3.ipynb       LectureN4.ipynb \u001b[34mML\u001b[m\u001b[m\r\n"
     ]
    }
   ],
   "source": [
    "!ls"
   ]
  },
  {
   "cell_type": "code",
   "execution_count": 76,
   "id": "2d14ab6d",
   "metadata": {},
   "outputs": [
    {
     "name": "stdout",
     "output_type": "stream",
     "text": [
      "0\n",
      "0\n",
      "3\n",
      "20\n",
      "24\n"
     ]
    }
   ],
   "source": [
    "p = 1\n",
    "for i in range(1, 5):\n",
    "    p = p * i\n",
    "    print(p-i)\n",
    "print(p)"
   ]
  },
  {
   "cell_type": "code",
   "execution_count": 106,
   "id": "ae098ecc",
   "metadata": {},
   "outputs": [
    {
     "data": {
      "text/plain": [
       "[[114, 2, 112, 0, 112], [8, 4, 4, 0, 4], [12, 6, 6, 0, 6]]"
      ]
     },
     "execution_count": 106,
     "metadata": {},
     "output_type": "execute_result"
    }
   ],
   "source": [
    "A = [[111,1], [2, 2], [3,3]]\n",
    "B = [[1, 0, 1, 0, 1], [3, 2, 1, 0 ,1]]\n",
    "C = []\n",
    "if len(A[0])==len(B):\n",
    "    for row in A:\n",
    "        c_row = []\n",
    "        for j in range(len(B[0])):\n",
    "            column_B = []\n",
    "            for row_B in B:\n",
    "                column_B.append(row_B[j])\n",
    "            c = 0\n",
    "            for i in range(len(row)):\n",
    "                c += row[i] * column_B[i]\n",
    "            c_row.append(c)\n",
    "        C.append(c_row)\n",
    "C"
   ]
  },
  {
   "cell_type": "code",
   "execution_count": 107,
   "id": "5dae9e16",
   "metadata": {},
   "outputs": [],
   "source": [
    "def f(x):\n",
    "    if type(x) == int:\n",
    "        x += 5\n",
    "        return x"
   ]
  },
  {
   "cell_type": "code",
   "execution_count": 100,
   "id": "f86a371c",
   "metadata": {},
   "outputs": [],
   "source": [
    "def get_column(B, j):\n",
    "    column_B = []\n",
    "    for row_B in B:\n",
    "        column_B.append(row_B[j])\n",
    "    return column_B"
   ]
  },
  {
   "cell_type": "code",
   "execution_count": 101,
   "id": "761db8bf",
   "metadata": {},
   "outputs": [],
   "source": [
    "def dot_product(x, y):\n",
    "    dot_product = 0\n",
    "    for i in range(len(x)):\n",
    "        dot_product += x[i] * y[i]\n",
    "    return dot_product"
   ]
  },
  {
   "cell_type": "code",
   "execution_count": 108,
   "id": "21825f53",
   "metadata": {},
   "outputs": [],
   "source": [
    "def matrix_mult(A, B):\n",
    "    C = []\n",
    "    if len(A[0])==len(B):\n",
    "        for row in A:\n",
    "            c_row = []\n",
    "            for j in range(len(B[0])):\n",
    "                column_Bj = get_column(B, j)\n",
    "                c = dot_product(row, column_Bj)\n",
    "                c_row.append(c)\n",
    "            C.append(c_row)\n",
    "    return C"
   ]
  },
  {
   "cell_type": "code",
   "execution_count": 109,
   "id": "e3814664",
   "metadata": {
    "scrolled": true
   },
   "outputs": [],
   "source": [
    "C = matrix_mult(A, B)"
   ]
  },
  {
   "cell_type": "code",
   "execution_count": 115,
   "id": "9a20bcad",
   "metadata": {},
   "outputs": [
    {
     "data": {
      "text/plain": [
       "' 1'"
      ]
     },
     "execution_count": 115,
     "metadata": {},
     "output_type": "execute_result"
    }
   ],
   "source": [
    "\"1\".rjust(2)"
   ]
  },
  {
   "cell_type": "code",
   "execution_count": 123,
   "id": "a745d7ce",
   "metadata": {},
   "outputs": [],
   "source": [
    "def chislo_razr(n):\n",
    "    i = 0\n",
    "    while n >= 1.0:\n",
    "        i += 1\n",
    "        n /= 10\n",
    "    return i"
   ]
  },
  {
   "cell_type": "code",
   "execution_count": 110,
   "id": "941e130b",
   "metadata": {},
   "outputs": [],
   "source": [
    "def print_matrix(C):\n",
    "    for row in C:\n",
    "        print(row)"
   ]
  },
  {
   "cell_type": "code",
   "execution_count": 134,
   "id": "de69d1e0",
   "metadata": {},
   "outputs": [],
   "source": [
    "all_rows = []\n",
    "for row in C:\n",
    "    all_rows += row\n",
    "m = chislo_razr(max(all_rows))"
   ]
  },
  {
   "cell_type": "code",
   "execution_count": 111,
   "id": "f299ce71",
   "metadata": {},
   "outputs": [
    {
     "name": "stdout",
     "output_type": "stream",
     "text": [
      "[114, 2, 112, 0, 112]\n",
      "[8, 4, 4, 0, 4]\n",
      "[12, 6, 6, 0, 6]\n"
     ]
    }
   ],
   "source": [
    "print_matrix(C)"
   ]
  },
  {
   "cell_type": "code",
   "execution_count": null,
   "id": "ad1df9a3",
   "metadata": {},
   "outputs": [],
   "source": []
  }
 ],
 "metadata": {
  "kernelspec": {
   "display_name": "Python 3 (ipykernel)",
   "language": "python",
   "name": "python3"
  },
  "language_info": {
   "codemirror_mode": {
    "name": "ipython",
    "version": 3
   },
   "file_extension": ".py",
   "mimetype": "text/x-python",
   "name": "python",
   "nbconvert_exporter": "python",
   "pygments_lexer": "ipython3",
   "version": "3.8.8"
  }
 },
 "nbformat": 4,
 "nbformat_minor": 5
}
