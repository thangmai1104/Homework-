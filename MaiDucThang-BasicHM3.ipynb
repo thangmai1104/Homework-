{
 "cells": [
  {
   "cell_type": "markdown",
   "id": "b9c9d72b",
   "metadata": {},
   "source": [
    "# Домашнее задание"
   ]
  },
  {
   "cell_type": "markdown",
   "id": "c3e7b675",
   "metadata": {},
   "source": [
    "1. Запишите в переменную значение <b>целочисленного</b> типа и проверьте тип переменной.\n",
    "2. Запишите в переменную <b>действительное</b> число и проверьте тип переменной.\n",
    "3. Запишите в переменную <b>строку</b> и проверьте тип переменной."
   ]
  },
  {
   "cell_type": "markdown",
   "id": "62d85c27",
   "metadata": {},
   "source": [
    "Python будет считать комментарием все, что находится после \"#\" и до конца строки.\n",
    "\n",
    "Всё что указано в строке после # игнорируется компилятором. "
   ]
  },
  {
   "cell_type": "code",
   "execution_count": 4,
   "id": "349d4f3a",
   "metadata": {},
   "outputs": [
    {
     "data": {
      "text/plain": [
       "int"
      ]
     },
     "execution_count": 4,
     "metadata": {},
     "output_type": "execute_result"
    }
   ],
   "source": [
    "# решение\n",
    "x=3\n",
    "type(x)"
   ]
  },
  {
   "cell_type": "code",
   "execution_count": 5,
   "id": "d8f0f677",
   "metadata": {},
   "outputs": [
    {
     "data": {
      "text/plain": [
       "float"
      ]
     },
     "execution_count": 5,
     "metadata": {},
     "output_type": "execute_result"
    }
   ],
   "source": [
    "# решение\n",
    "y=3.2\n",
    "type(y)\n"
   ]
  },
  {
   "cell_type": "code",
   "execution_count": 8,
   "id": "de20e58a",
   "metadata": {},
   "outputs": [
    {
     "data": {
      "text/plain": [
       "str"
      ]
     },
     "execution_count": 8,
     "metadata": {},
     "output_type": "execute_result"
    }
   ],
   "source": [
    "# решение\n",
    "z = 'a'\n",
    "type(z)"
   ]
  },
  {
   "cell_type": "code",
   "execution_count": null,
   "id": "8c1db6f7",
   "metadata": {},
   "outputs": [],
   "source": [
    "# решение\n"
   ]
  },
  {
   "cell_type": "code",
   "execution_count": null,
   "id": "d5bc0981",
   "metadata": {},
   "outputs": [],
   "source": [
    "# решение\n"
   ]
  },
  {
   "cell_type": "code",
   "execution_count": null,
   "id": "9ba447e9",
   "metadata": {},
   "outputs": [],
   "source": [
    "# решение\n"
   ]
  },
  {
   "cell_type": "markdown",
   "id": "d04761ce",
   "metadata": {},
   "source": [
    "# Логические значения"
   ]
  },
  {
   "cell_type": "markdown",
   "id": "c6c47759",
   "metadata": {},
   "source": [
    "Логические значения True (истина) и False (ложь) представляет тип данных bool. У этого типа только два возможных значения и два соответствующих литерала: <b>True</b> и <b>False</b>."
   ]
  },
  {
   "cell_type": "code",
   "execution_count": null,
   "id": "8e3c67ac",
   "metadata": {},
   "outputs": [],
   "source": [
    "# пример\n",
    "logical_value = True\n",
    "print(logical_value)"
   ]
  },
  {
   "cell_type": "markdown",
   "id": "cb7ccaf8",
   "metadata": {},
   "source": [
    "Определенные для объектов типа bool операторы(and, or и not) известны как логические операторы и имеют общеизвестные определения:\n",
    "\n",
    "- a and b даёт True, если оба операнда True, иначе False\n",
    "- a or b даёт True, если хотя бы один операндов True, иначе False\n",
    "- not a даёт True, если a имеет значение False, иначе False"
   ]
  },
  {
   "cell_type": "code",
   "execution_count": null,
   "id": "d0da50c9",
   "metadata": {
    "scrolled": true
   },
   "outputs": [],
   "source": [
    "# проверим тип литерала True\n",
    "type(True)"
   ]
  },
  {
   "cell_type": "code",
   "execution_count": null,
   "id": "e2175110",
   "metadata": {},
   "outputs": [],
   "source": [
    "# проверим тип литерала True\n",
    "print(type(True))"
   ]
  },
  {
   "cell_type": "code",
   "execution_count": null,
   "id": "9dfe8968",
   "metadata": {},
   "outputs": [],
   "source": [
    "# пример: метод print() может выводить сразу несколько переменных, если их указать через запятую, между выводимыми\n",
    "# значениями ставится пробел\n",
    "print(1, 2, 3)\n",
    "print('Hello', 'people :-)')"
   ]
  },
  {
   "cell_type": "code",
   "execution_count": null,
   "id": "cdc04590",
   "metadata": {},
   "outputs": [],
   "source": [
    "# пример\n",
    "a = True\n",
    "b = True\n",
    "print('a =', a)\n",
    "print('b =', b)\n",
    "print('a and b =', a and b)\n",
    "print('a or b =', a or b)\n",
    "print('not a =', not a)\n",
    "\n",
    "\n",
    "print('_________________')\n",
    "\n",
    "a = True\n",
    "b = False\n",
    "print('a =', a)\n",
    "print('b =', b)\n",
    "print('a and b =', a and b)\n",
    "print('a or b =', a or b)\n",
    "print('not a =', not a)\n",
    "\n",
    "print('_________________')\n",
    "\n",
    "a = False\n",
    "b = False\n",
    "print('a =', a)\n",
    "print('b =', b)\n",
    "print('a and b =', a and b)\n",
    "print('a or b =', a or b)\n",
    "print('not a =', not a)"
   ]
  },
  {
   "cell_type": "markdown",
   "id": "2973a18e",
   "metadata": {},
   "source": [
    "### Больше, меньше, равно"
   ]
  },
  {
   "cell_type": "markdown",
   "id": "2ba754de",
   "metadata": {},
   "source": [
    "Результатом сравнения операндов типа int является тип bool"
   ]
  },
  {
   "cell_type": "code",
   "execution_count": null,
   "id": "06f8b8c5",
   "metadata": {},
   "outputs": [],
   "source": [
    "# пример\n",
    "a = 5\n",
    "b = 10\n",
    "print('a==b это', a==b) # == это проверка на равенство\n",
    "print('a!=b это', a!=b) # != проверка на не равенство иными словами не равно\n",
    "print('a>b это', a>b) # > - оператор больше\n",
    "print('a>=b это', a>=b) # >= - больше или равно\n",
    "print('a<b это', a<b) # < - оператор меньше\n",
    "print('a<=b это', a<=b) # <= - оператор меньше или равно"
   ]
  },
  {
   "cell_type": "markdown",
   "id": "0639bf22",
   "metadata": {},
   "source": [
    "4. Проверьте больше ли 2 в 14, чем 3 в 9. "
   ]
  },
  {
   "cell_type": "code",
   "execution_count": null,
   "id": "10824f9b",
   "metadata": {},
   "outputs": [],
   "source": [
    "# решение\n"
   ]
  },
  {
   "cell_type": "markdown",
   "id": "ac8fcf0b",
   "metadata": {},
   "source": [
    "# Условные выражения и циклы"
   ]
  },
  {
   "cell_type": "markdown",
   "id": "8ec9f38e",
   "metadata": {},
   "source": [
    "Рассмотрим операторы языка Python, реализующие условные выражения (conditional), где некие другие операторы могут быть выполнены или не выполнены в зависимости от определённых условий, и циклы, где некие другие операторы могут быть выполнены многократно, опять же взависимости от определенных условий."
   ]
  },
  {
   "cell_type": "markdown",
   "id": "a600d182",
   "metadata": {},
   "source": [
    "<b>Оператор</b> if. Часто для разных исходных данных требуются разные действия. (Допустим, если мы хотим реализовать функцию модуль, то в случае отрицательного числа, нужно вернуть число со знаком минус, иначе само число). Одним из способов выражения этих различий в языке Python является оператор if:"
   ]
  },
  {
   "cell_type": "code",
   "execution_count": null,
   "id": "33e19153",
   "metadata": {},
   "outputs": [],
   "source": [
    "#if <логическое выражение>:\n",
    "#   <оператор>\n",
    "#   <оператор>\n",
    "#   <оператор>\n",
    "#   <оператор>"
   ]
  },
  {
   "cell_type": "markdown",
   "id": "80841efd",
   "metadata": {},
   "source": [
    "Эта форма записи известна, как шаблон и используется для описания формата конструкций языка Python. В угловых скобках (<>)  приводят уже определенную конструкцию, означа, что в этом месте можно использовать любой её экземпляр.\n",
    "\n",
    "В данном случае <логическое выражение> представляет выражение, возвращающее результат логичекого типа, а <оператор> представляет выполнимый оператор(это могут быть самые разные операторы)\n",
    "\n",
    "Python выполняет операторы с отступом(tab), если и только если логическое выражение истинно. Набор операторов с отступом называется блоком. Первая строка без отступа отмечает конец блока."
   ]
  },
  {
   "cell_type": "code",
   "execution_count": null,
   "id": "0bd98de0",
   "metadata": {},
   "outputs": [],
   "source": [
    "# пример: модуль числа\n",
    "x = -5 # можете задать любое число\n",
    "if x < 0: \n",
    "    x = -x # так как следующая строка уже без отступа, то блок заканчивается в конце данной строки. \n",
    "print(x) # выполнится в любом случае так как находится вне блока"
   ]
  },
  {
   "cell_type": "code",
   "execution_count": null,
   "id": "68f18816",
   "metadata": {},
   "outputs": [],
   "source": [
    "# пример: расположение x1, x2 в порядке возрастания(x1<=x2)\n",
    "x1 = 5 \n",
    "x2 = 1\n",
    "if x1 > x2: # если порядок нарушен, то на нужно поменять значения x1  и x2, для этого\n",
    "    temp = x1 # сохраняем значение первой переменной в temp \n",
    "    x1 = x2 # записываем x2 в x1, так как ранее мы сохранили значение x1, то данное значение не будет потеряно\n",
    "    x2 = temp # записываем ранее сохранённое в переменную temp значение x1\n",
    "print('x1:', x1)\n",
    "print('x2:', x2) # получаем порядок, которые хотели"
   ]
  },
  {
   "cell_type": "markdown",
   "id": "b8545756",
   "metadata": {},
   "source": [
    "<b>Директива </b> else. К оператору if  можно добавить директиву else, позволяющую выполнить один оператор (или блок операторов) в одном случае, а другой оператор (или блок операторов) - в другом случае, в зависимости от истинности или или ложности результата логического выражения, как в следующем шаблоне"
   ]
  },
  {
   "cell_type": "code",
   "execution_count": null,
   "id": "cae70c9d",
   "metadata": {},
   "outputs": [],
   "source": [
    "#if <логическое выражение>:\n",
    "#   <оператор>\n",
    "#   <оператор>\n",
    "#   <оператор>\n",
    "#   <оператор>\n",
    "#else: блок операторов (или оператор) идующий за esle выполняется, если логическое выражение равно False т. е.  ложно\n",
    "#   <оператор>\n",
    "#   <оператор>\n",
    "#   <оператор>"
   ]
  },
  {
   "cell_type": "code",
   "execution_count": null,
   "id": "854b5364",
   "metadata": {},
   "outputs": [],
   "source": [
    "# пример: нахождение максимума из двух чисел\n",
    "x = 10\n",
    "y = 20\n",
    "if  x > y:  #сравниваем числа х и у, если х больше у, то х максимум иначе(else) у - максимум\n",
    "    maximum = x\n",
    "else:\n",
    "    maximum = y\n",
    "print('max:', maximum) # выводим на экран максимальное значение"
   ]
  },
  {
   "cell_type": "markdown",
   "id": "ba1cfc2f",
   "metadata": {},
   "source": [
    "5. Реализуйте вывод минимум для двух произвольных числе x, y. Поменяйте х и у, проверьте правильно ли работает программа при различных значениях."
   ]
  },
  {
   "cell_type": "code",
   "execution_count": null,
   "id": "4933a1ff",
   "metadata": {},
   "outputs": [],
   "source": [
    "# решение\n",
    "x = 111\n",
    "y = 777"
   ]
  },
  {
   "cell_type": "markdown",
   "id": "136d8517",
   "metadata": {},
   "source": [
    "6.(необязательное задание) Реализуйте выводи максимума для трёх произвольных чисел. x, y, z."
   ]
  },
  {
   "cell_type": "code",
   "execution_count": null,
   "id": "89c0ebfc",
   "metadata": {},
   "outputs": [],
   "source": [
    "# пример: можно вкладывать условные операторы\n",
    "x1 = 5\n",
    "x2 = -1\n",
    "if x1 > 0:\n",
    "    if x2 < 0:\n",
    "        print(\"x1>0 and x2<0\")"
   ]
  },
  {
   "cell_type": "code",
   "execution_count": null,
   "id": "ec57154f",
   "metadata": {},
   "outputs": [],
   "source": [
    "# пример: код выше можно реализовать через оператор and"
   ]
  },
  {
   "cell_type": "code",
   "execution_count": null,
   "id": "c9ecd68f",
   "metadata": {},
   "outputs": [],
   "source": [
    "x1 = 5 \n",
    "x2 = -1\n",
    "if x1 > 0 and x2 < 0:\n",
    "    print(\"x1>0 and x2<0\")"
   ]
  },
  {
   "cell_type": "code",
   "execution_count": null,
   "id": "ed90b893",
   "metadata": {},
   "outputs": [],
   "source": [
    "# решение"
   ]
  },
  {
   "cell_type": "markdown",
   "id": "833b5d28",
   "metadata": {},
   "source": [
    "# Списки"
   ]
  },
  {
   "cell_type": "markdown",
   "id": "a5d3783b",
   "metadata": {},
   "source": [
    "## Списки / массивы "
   ]
  },
  {
   "cell_type": "markdown",
   "id": "76bde741",
   "metadata": {},
   "source": [
    "В этой части рассмотрим фундаментальные свойства массива в языке Python.\n",
    "\n",
    "Структура данных - способ организации данных, необходимых для их обработки компьютерной программой.\n",
    "\n",
    "Одномерный массив - структура данных, хранящая последовательность ссылок на объекты. Хранимые в массивах объекты являются его элементами. Для обращения к элементам массива их нумеруют, а затем индексируют. Если в последовательности $n$ элементов, то их считают пронумерованными от $0$ до $n-1$. Любой из них можно однозначно идентифицировать по номеру(индексу $i$) в этом диапазоне.\n",
    "\n",
    "Двумерный массив - массив ссылок на одномерные массивы. Принимая во внимание, что элементы одномерного массива индексируются одиночным целым числом, элементы двумерного массива индексируются двумя целыми числами: первое - определение ряда, второе - определение столбца.\n",
    "\n",
    "Зачастую, когда объем данных велик их помещают в один или несколько массивов, а затем, используя индексацию, обращаются к их индивидуальным элементам и обрабатывают. Допустим, если имеется 10000 записей курса акций и мы хотим найти самый высокий курс, то хранение в массиве будет более удобным, чем создание 10000 новых переменных."
   ]
  },
  {
   "cell_type": "markdown",
   "id": "fa0fa9bd",
   "metadata": {},
   "source": [
    "<b>Массивы(Списки)</b> в Python. Самый простой способ создания массива в языке Python - поместить разделяемый список литералов в квадратные скобки"
   ]
  },
  {
   "cell_type": "code",
   "execution_count": null,
   "id": "1b1561ba",
   "metadata": {},
   "outputs": [],
   "source": [
    "# пример\n",
    "names = ['Anna', 'Olga', 'Petr', 'Vasya'] # создаёт массив(список) из четырёх строк \n",
    "                                          #и сохраняет ссылку на него в переменную names"
   ]
  },
  {
   "cell_type": "code",
   "execution_count": null,
   "id": "466c3d55",
   "metadata": {},
   "outputs": [],
   "source": [
    "# пример\n",
    "x = [0.3, 0.6, 0.1] \n",
    "y = [0.15, 0.2, 0.45]\n",
    "# создаёт два массива состоящих из трёх действительных чисел"
   ]
  },
  {
   "cell_type": "markdown",
   "id": "9ec78109",
   "metadata": {},
   "source": [
    "Каждый массив - это объект, содержащий данные (точнее ссылки на объекты), структурированные для более эффективного доступа.\n",
    "\n",
    "После создания массива любой его объект можно использовать в программе везде, где использовалось бы имя переменной. Для этого указывают имя массива? сопровождаемое целочисленным индексом в квадратных скобках. В приведенных примерах элемент $names[1]$ ссылается на значение 'Olga', x[0] = 0.3, а y[2]=0.45.\n",
    "\n",
    "Обратите внимание, что $x$ - это ссылка на весь массив, а x[i] - ссылка на i-ый элемент массива(списка)."
   ]
  },
  {
   "cell_type": "code",
   "execution_count": null,
   "id": "9a451e16",
   "metadata": {},
   "outputs": [],
   "source": [
    "# пример\n",
    "names[1] # действительно Ольга"
   ]
  },
  {
   "cell_type": "code",
   "execution_count": null,
   "id": "f2236447",
   "metadata": {},
   "outputs": [],
   "source": [
    "# пример\n",
    "x[0] # = 0.3?"
   ]
  },
  {
   "cell_type": "code",
   "execution_count": null,
   "id": "6018a598",
   "metadata": {},
   "outputs": [],
   "source": [
    "# пример\n",
    "y[2] # = 0.45?"
   ]
  },
  {
   "cell_type": "markdown",
   "id": "8547b75f",
   "metadata": {},
   "source": [
    "Очевидное преимущество использование массив - возможность избежать индивидуального обращения к каждой переменной. Использование индекса массива - практически то же, что и добавление индекса к имени переменной. Например, если нужно обработать 8 значений float, то к каждому из них можно индивидуально обратиться по именам переменной: $a0, a1, ..., a7$. Если в случае 8 значений это ещё реально сделать, то обозначение множества индивидуальных переменных таким образом было бы слишком громоздким, в случае миллионов значений."
   ]
  },
  {
   "cell_type": "code",
   "execution_count": null,
   "id": "ca5bf19e",
   "metadata": {},
   "outputs": [],
   "source": [
    "# пример\n",
    "a0 = 1\n",
    "a1 = 2\n",
    "a2 = 3\n",
    "a3 = 4\n",
    "a4 = 5\n",
    "a5 = 6\n",
    "a6 = 7\n",
    "a7 = 8"
   ]
  },
  {
   "cell_type": "code",
   "execution_count": null,
   "id": "93d72d42",
   "metadata": {},
   "outputs": [],
   "source": [
    "# пример\n",
    "a = [1, 2, 3, 4, 5, 6, 7, 8]"
   ]
  },
  {
   "cell_type": "code",
   "execution_count": null,
   "id": "b171ed47",
   "metadata": {},
   "outputs": [],
   "source": [
    "# пример получения 1 элемента\n",
    "print(a0)\n",
    "print(a[0]) # записи примерно похожи по виду, но в одном случае введено 8 переменных, в другом одна и обращение происходит по индексу"
   ]
  },
  {
   "cell_type": "markdown",
   "id": "099e21c5",
   "metadata": {},
   "source": [
    "7. Создайте список состоящий из строк \"Красный\", \"Черный\", \"Желтый\", \"Коричневый\", \"Оранжевый\" и назовите его colors."
   ]
  },
  {
   "cell_type": "code",
   "execution_count": null,
   "id": "c2063d3e",
   "metadata": {},
   "outputs": [],
   "source": [
    "# решение\n"
   ]
  },
  {
   "cell_type": "markdown",
   "id": "9ebafa54",
   "metadata": {},
   "source": [
    "8. Сохраните в перемнную yellow_color третий элемент списка."
   ]
  },
  {
   "cell_type": "code",
   "execution_count": null,
   "id": "4c63a58c",
   "metadata": {},
   "outputs": [],
   "source": [
    "# решение\n"
   ]
  },
  {
   "cell_type": "markdown",
   "id": "e3ebe09b",
   "metadata": {},
   "source": [
    "9. Используя метод print() выведите на экран значение переменной yellow_color"
   ]
  },
  {
   "cell_type": "code",
   "execution_count": null,
   "id": "a4b82d60",
   "metadata": {},
   "outputs": [],
   "source": [
    "# решение\n"
   ]
  },
  {
   "cell_type": "markdown",
   "id": "ab6cb139",
   "metadata": {},
   "source": [
    "10. Используя метод replace, замените в переменной yellow_color символы е на о. <br>\n",
    "Метод replace применяется след. образом \"некоторая строка или переменная\".replace('что хотите поменять', 'на что хотите поменять')"
   ]
  },
  {
   "cell_type": "code",
   "execution_count": null,
   "id": "7a41a7ca",
   "metadata": {
    "scrolled": true
   },
   "outputs": [],
   "source": [
    "# пример\n",
    "\"My name is Vasya\".replace(\"Vasya\", \"Petr\") "
   ]
  },
  {
   "cell_type": "code",
   "execution_count": null,
   "id": "ad3a37bd",
   "metadata": {},
   "outputs": [],
   "source": [
    "# пример\n",
    "# можно применять replace несколько раз подряд\n",
    "\"AaaEe\".replace(\"A\", \"a\").replace(\"e\", \"E\")"
   ]
  },
  {
   "cell_type": "code",
   "execution_count": null,
   "id": "c1e803a3",
   "metadata": {},
   "outputs": [],
   "source": [
    "# решение\n"
   ]
  },
  {
   "cell_type": "code",
   "execution_count": null,
   "id": "74f85430",
   "metadata": {},
   "outputs": [],
   "source": []
  }
 ],
 "metadata": {
  "kernelspec": {
   "display_name": "Python 3 (ipykernel)",
   "language": "python",
   "name": "python3"
  },
  "language_info": {
   "codemirror_mode": {
    "name": "ipython",
    "version": 3
   },
   "file_extension": ".py",
   "mimetype": "text/x-python",
   "name": "python",
   "nbconvert_exporter": "python",
   "pygments_lexer": "ipython3",
   "version": "3.8.8"
  }
 },
 "nbformat": 4,
 "nbformat_minor": 5
}
