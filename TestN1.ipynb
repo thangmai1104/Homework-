{
 "cells": [
  {
   "cell_type": "code",
   "execution_count": 1,
   "metadata": {},
   "outputs": [
    {
     "name": "stdout",
     "output_type": "stream",
     "text": [
      "4\n",
      "4\n"
     ]
    }
   ],
   "source": [
    "n = 10\n",
    "i = 0\n",
    "while i < n:\n",
    "    n = n - i\n",
    "    i = i + 1\n",
    "print(n)\n",
    "print(i)"
   ]
  },
  {
   "cell_type": "code",
   "execution_count": 2,
   "metadata": {},
   "outputs": [
    {
     "name": "stdout",
     "output_type": "stream",
     "text": [
      "100\n",
      "10\n"
     ]
    }
   ],
   "source": [
    "n = 10\n",
    "i = 0\n",
    "s = 0\n",
    "while i < n:\n",
    "    s = s + n\n",
    "    i = i + 1\n",
    "print(s)\n",
    "print(i)"
   ]
  },
  {
   "cell_type": "code",
   "execution_count": 3,
   "metadata": {},
   "outputs": [
    {
     "name": "stdout",
     "output_type": "stream",
     "text": [
      "45\n",
      "10\n"
     ]
    }
   ],
   "source": [
    "n = 10\n",
    "i = 0\n",
    "s = 0\n",
    "while i < n:\n",
    "    s = s + i\n",
    "    i = i + 1\n",
    "print(s)\n",
    "print(i)"
   ]
  },
  {
   "cell_type": "code",
   "execution_count": 4,
   "metadata": {},
   "outputs": [
    {
     "name": "stdout",
     "output_type": "stream",
     "text": [
      "0\n",
      "0\n",
      "3\n",
      "20\n",
      "24\n"
     ]
    }
   ],
   "source": [
    "p = 1\n",
    "for i in range(1, 5):\n",
    "    p = p * i\n",
    "    print(p-i)\n",
    "print(p)"
   ]
  },
  {
   "cell_type": "code",
   "execution_count": 5,
   "metadata": {},
   "outputs": [
    {
     "name": "stdout",
     "output_type": "stream",
     "text": [
      "24\n",
      "12\n"
     ]
    }
   ],
   "source": [
    "p = 1\n",
    "s = 0\n",
    "for i in range(4):\n",
    "    p = p * (i + 1)\n",
    "    s = s + 2 * i\n",
    "print(p)\n",
    "print(s)"
   ]
  },
  {
   "cell_type": "code",
   "execution_count": 6,
   "metadata": {},
   "outputs": [
    {
     "name": "stdout",
     "output_type": "stream",
     "text": [
      "3\n",
      "2\n",
      "1\n",
      "0\n",
      "34\n"
     ]
    }
   ],
   "source": [
    "j = 3\n",
    "s = 0\n",
    "while j >= 0:\n",
    "    print(j)\n",
    "    s = 2*s + j\n",
    "    j = j - 1\n",
    "print(s)"
   ]
  },
  {
   "cell_type": "code",
   "execution_count": null,
   "metadata": {},
   "outputs": [],
   "source": []
  }
 ],
 "metadata": {
  "kernelspec": {
   "display_name": "Python 3 (ipykernel)",
   "language": "python",
   "name": "python3"
  },
  "language_info": {
   "codemirror_mode": {
    "name": "ipython",
    "version": 3
   },
   "file_extension": ".py",
   "mimetype": "text/x-python",
   "name": "python",
   "nbconvert_exporter": "python",
   "pygments_lexer": "ipython3",
   "version": "3.8.8"
  }
 },
 "nbformat": 4,
 "nbformat_minor": 4
}
