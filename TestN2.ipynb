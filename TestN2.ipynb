{
 "cells": [
  {
   "cell_type": "code",
   "execution_count": null,
   "id": "4d5706da",
   "metadata": {},
   "outputs": [],
   "source": [
    "array = list(range(2, 8))\n",
    "new_array = list()\n",
    "for elem in array:\n",
    "    if elem % 2 == 0:\n",
    "        new_array.append(1)\n",
    "    else:\n",
    "        new_array.append(elem * 3 - 1)\n",
    "array.reverse()\n",
    "third_array = array + new_array\n",
    "third_array.pop()\n",
    "third_array.reverse()\n",
    "print(third_array)"
   ]
  },
  {
   "cell_type": "code",
   "execution_count": null,
   "id": "b5618a0c",
   "metadata": {},
   "outputs": [],
   "source": [
    "array = list(range(-3, 2))\n",
    "new_array = list()\n",
    "for elem in array:\n",
    "    if elem >= 0:\n",
    "        new_array.append(1 * elem - 1)\n",
    "    else:\n",
    "        new_array.append(elem * 2 + 5)\n",
    "array.reverse()\n",
    "third_array = array + new_array\n",
    "third_array.pop()\n",
    "third_array.reverse()\n",
    "print(third_array)"
   ]
  },
  {
   "cell_type": "code",
   "execution_count": null,
   "id": "1e8dee18",
   "metadata": {},
   "outputs": [],
   "source": [
    "array = [1, 2, 3, 4, 5, 6, 7, 8, 2, 3, 5, 6, 7]\n",
    "for elem in array:\n",
    "    print(array.count(elem))\n",
    "while len(array) > 0:\n",
    "    print(array.pop())\n",
    "print(array)"
   ]
  },
  {
   "cell_type": "code",
   "execution_count": null,
   "id": "3b38020c",
   "metadata": {},
   "outputs": [],
   "source": [
    "p_arr = [2, 3, 5, 7, 11]\n",
    "numbers = [99, 98, 97, 83, 82]\n",
    "for n in numbers:\n",
    "    simple = False\n",
    "    for p in p_arr:\n",
    "        if n % p == 0:\n",
    "            simple = True\n",
    "    print(n, ':', simple)\n",
    "p_arr.pop()\n",
    "p_arr.pop()\n",
    "p_arr.reverse()\n",
    "print(p_arr)"
   ]
  },
  {
   "cell_type": "code",
   "execution_count": null,
   "id": "e15ebf16",
   "metadata": {},
   "outputs": [],
   "source": []
  }
 ],
 "metadata": {
  "kernelspec": {
   "display_name": "Python 3",
   "language": "python",
   "name": "python3"
  },
  "language_info": {
   "codemirror_mode": {
    "name": "ipython",
    "version": 3
   },
   "file_extension": ".py",
   "mimetype": "text/x-python",
   "name": "python",
   "nbconvert_exporter": "python",
   "pygments_lexer": "ipython3",
   "version": "3.8.8"
  }
 },
 "nbformat": 4,
 "nbformat_minor": 5
}
