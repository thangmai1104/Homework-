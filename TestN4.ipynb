{
 "cells": [
  {
   "cell_type": "code",
   "execution_count": 14,
   "id": "70b24a13",
   "metadata": {},
   "outputs": [
    {
     "name": "stdout",
     "output_type": "stream",
     "text": [
      "[[0. 0.]\n",
      " [0. 0.]]\n",
      "<class 'numpy.ndarray'>\n"
     ]
    }
   ],
   "source": [
    "import numpy as np\n",
    "vector = np.array([1, 2, 3, 4, 5, 6])\n",
    "vector = vector -4\n",
    "matrix = vector.reshape((2,3))\n",
    "matrix = matrix * matrix\n",
    "matrix = matrix[:, :2]\n",
    "matrix = matrix - np.eye(2)\n",
    "matrix = matrix.T\n",
    "matrix[0, 0] = 0\n",
    "matrix[1, 0] = 0\n",
    "print(matrix)"
   ]
  },
  {
   "cell_type": "code",
   "execution_count": 2,
   "id": "810f7838",
   "metadata": {},
   "outputs": [
    {
     "name": "stdout",
     "output_type": "stream",
     "text": [
      "[[6. 6.]\n",
      " [6. 6.]]\n"
     ]
    }
   ],
   "source": [
    "import numpy as np\n",
    "\n",
    "vector = np.array([2, 6, 10, 0, 4, 2])\n",
    "vector = vector * 0.5\n",
    "matrix = vector.reshape((3,2))\n",
    "matrix = matrix * matrix - matrix\n",
    "matrix = matrix[:2, :]\n",
    "matrix = matrix + 6*np.eye(2)\n",
    "matrix = matrix.T\n",
    "matrix[0,1]=6.\n",
    "print(matrix)"
   ]
  },
  {
   "cell_type": "code",
   "execution_count": 3,
   "id": "16513507",
   "metadata": {},
   "outputs": [
    {
     "name": "stdout",
     "output_type": "stream",
     "text": [
      "[[-6.  6.]\n",
      " [ 6. -6.]]\n"
     ]
    }
   ],
   "source": [
    "import numpy as np\n",
    "\n",
    "vector = np.array([4, 8, 12, 4, 8, 12])\n",
    "vector = vector * 0.25\n",
    "matrix = vector.reshape((3,2))\n",
    "matrix = matrix * matrix - matrix\n",
    "matrix = matrix[:2, :]\n",
    "matrix = matrix - 6*np.eye(2)\n",
    "matrix = matrix.T.T.T\n",
    "matrix[1,0]=6.\n",
    "print(matrix)"
   ]
  },
  {
   "cell_type": "code",
   "execution_count": 4,
   "id": "4a84e673",
   "metadata": {},
   "outputs": [
    {
     "name": "stdout",
     "output_type": "stream",
     "text": [
      "[[ 8. 36.]\n",
      " [ 0.  0.]]\n"
     ]
    }
   ],
   "source": [
    "import numpy as np\n",
    "\n",
    "vector = np.array([-1, -4, -5, 2, 3, 1])\n",
    "vector = vector + 1\n",
    "matrix = vector.reshape((2,3))\n",
    "matrix = (matrix - 3) * (matrix -3)\n",
    "matrix = matrix[:, :2]\n",
    "matrix = matrix - np.eye(2)\n",
    "matrix = matrix.T.T.T.T\n",
    "print(matrix)"
   ]
  },
  {
   "cell_type": "code",
   "execution_count": null,
   "id": "f9e6ae91",
   "metadata": {},
   "outputs": [],
   "source": []
  }
 ],
 "metadata": {
  "kernelspec": {
   "display_name": "Python 3 (ipykernel)",
   "language": "python",
   "name": "python3"
  },
  "language_info": {
   "codemirror_mode": {
    "name": "ipython",
    "version": 3
   },
   "file_extension": ".py",
   "mimetype": "text/x-python",
   "name": "python",
   "nbconvert_exporter": "python",
   "pygments_lexer": "ipython3",
   "version": "3.8.8"
  }
 },
 "nbformat": 4,
 "nbformat_minor": 5
}
