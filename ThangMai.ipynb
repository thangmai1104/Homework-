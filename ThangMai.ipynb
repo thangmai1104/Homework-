{
 "cells": [
  {
   "cell_type": "code",
   "execution_count": 25,
   "id": "8fb6f437",
   "metadata": {},
   "outputs": [],
   "source": [
    "class OhNo():\n",
    "    def _init_(self,student_id):\n",
    "        self.student_id = student_id\n",
    "    def run(self, array):\n",
    "        a=self.student_id %4 +1\n",
    "        if a==1:\n",
    "            return self.method1(array)\n",
    "        elif a==2 :\n",
    "            return self.method2(array)\n",
    "        elif a==3 :\n",
    "            return self.method3(array)\n",
    "        elif a==4:\n",
    "            return self.method4(array)\n",
    "    def build_new_array(self, array):\n",
    "        new_array =list()\n",
    "        for elem in array:\n",
    "            if elem > self.student_id:\n",
    "                new_array.append(-1)\n",
    "            else:\n",
    "                new_array.append(self.student_id)\n",
    "        return new_array\n",
    "    def method1(self, array):\n",
    "        array.pop()\n",
    "        array.reverse()\n",
    "        array.pop()\n",
    "        array.append(self.student_id)\n",
    "        return self.build_new_array(array)\n",
    "    def method2(self, array):\n",
    "        array.pop()\n",
    "        array.append(self.student_id)\n",
    "        array.reverse()\n",
    "        return self.build_new_array(array)\n",
    "    def method3(self, array):\n",
    "        array.append(self.student_id)\n",
    "        array.reverse()\n",
    "        array.pop()\n",
    "        return self.build_new_array(array)\n",
    "    def method4(self, array):\n",
    "        array.pop()\n",
    "        array.pop()\n",
    "        array.append(self.student_id)\n",
    "        return self.build_new_array(array)"
   ]
  },
  {
   "cell_type": "code",
   "execution_count": 5,
   "id": "7555db3e",
   "metadata": {},
   "outputs": [
    {
     "data": {
      "text/plain": [
       "__main__.OhNo"
      ]
     },
     "execution_count": 5,
     "metadata": {},
     "output_type": "execute_result"
    }
   ],
   "source": []
  },
  {
   "cell_type": "code",
   "execution_count": 26,
   "id": "9e86433e",
   "metadata": {},
   "outputs": [
    {
     "name": "stdout",
     "output_type": "stream",
     "text": [
      " Volume in drive C has no label.\n",
      " Volume Serial Number is D233-7075\n",
      "\n",
      " Directory of C:\\Users\\thang_mai\\OneDrive - bmstu.ru\\Desktop\\5-?? ??????\\??????\\?????????????? ??????????\n",
      "\n",
      "16/10/2021  14:06    <DIR>          .\n",
      "16/10/2021  14:06    <DIR>          ..\n",
      "16/10/2021  13:54    <DIR>          .ipynb_checkpoints\n",
      "14/10/2021  13:50             6.038 DZ2Mai.ipynb\n",
      "14/10/2021  13:17             5.485 HM5.ipynb\n",
      "14/10/2021  21:10         1.812.391 LectureN4.ipynb\n",
      "14/10/2021  12:13            29.886 LectureN5.ipynb\n",
      "14/10/2021  12:11             2.860 TestN1.ipynb\n",
      "14/10/2021  12:10             2.441 TestN2.ipynb\n",
      "16/10/2021  14:06             5.090 ThangMai.ipynb\n",
      "14/10/2021  12:05               588 Untitled.ipynb\n",
      "14/10/2021  18:28            10.136 Untitled2 (1).ipynb\n",
      "               9 File(s)      1.874.915 bytes\n",
      "               3 Dir(s)  20.716.695.552 bytes free\n"
     ]
    }
   ],
   "source": [
    "!dir"
   ]
  },
  {
   "cell_type": "code",
   "execution_count": null,
   "id": "700c61f8",
   "metadata": {},
   "outputs": [],
   "source": []
  }
 ],
 "metadata": {
  "kernelspec": {
   "display_name": "Python 3 (ipykernel)",
   "language": "python",
   "name": "python3"
  },
  "language_info": {
   "codemirror_mode": {
    "name": "ipython",
    "version": 3
   },
   "file_extension": ".py",
   "mimetype": "text/x-python",
   "name": "python",
   "nbconvert_exporter": "python",
   "pygments_lexer": "ipython3",
   "version": "3.8.8"
  }
 },
 "nbformat": 4,
 "nbformat_minor": 5
}
